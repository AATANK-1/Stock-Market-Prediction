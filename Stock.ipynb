{
  "nbformat": 4,
  "nbformat_minor": 0,
  "metadata": {
    "colab": {
      "name": "Stock.ipynb",
      "provenance": [],
      "collapsed_sections": []
    },
    "kernelspec": {
      "name": "python3",
      "display_name": "Python 3"
    }
  },
  "cells": [
    {
      "cell_type": "markdown",
      "metadata": {
        "id": "7OIud-laEMRR"
      },
      "source": [
        "##**Stock Market Prediction model using LSTM**\n",
        "This notebook contains all the utils required for the modeling no other files are needed to be imported from outside\n",
        "\n"
      ]
    },
    {
      "cell_type": "markdown",
      "metadata": {
        "id": "yC9SNe7yEaCd"
      },
      "source": [
        "All the necessary packages are need to be imported\n",
        "the data is retrieved from the Yahoo Finance \n"
      ]
    },
    {
      "cell_type": "code",
      "metadata": {
        "id": "ybVj1_0Al_AG"
      },
      "source": [
        "import pandas as pd\n",
        "import numpy as np\n",
        "import pandas_datareader as web\n",
        "import math\n",
        "from sklearn.preprocessing import MinMaxScaler\n",
        "from keras.models import Sequential\n",
        "from keras.layers import LSTM,Dense\n",
        "from matplotlib import pyplot as plt"
      ],
      "execution_count": null,
      "outputs": []
    },
    {
      "cell_type": "code",
      "metadata": {
        "id": "ImNJMxY_nv4h"
      },
      "source": [
        "df = web.DataReader('AAPL',data_source = 'yahoo',start = '2006-08-14',end = '2021-03-10')"
      ],
      "execution_count": null,
      "outputs": []
    },
    {
      "cell_type": "code",
      "metadata": {
        "id": "DfKGFNWVpAtv",
        "colab": {
          "base_uri": "https://localhost:8080/",
          "height": 235
        },
        "outputId": "70bd2184-794e-47f4-e9ce-e1cd578e9fa1"
      },
      "source": [
        "df.head()"
      ],
      "execution_count": null,
      "outputs": [
        {
          "output_type": "execute_result",
          "data": {
            "text/html": [
              "<div>\n",
              "<style scoped>\n",
              "    .dataframe tbody tr th:only-of-type {\n",
              "        vertical-align: middle;\n",
              "    }\n",
              "\n",
              "    .dataframe tbody tr th {\n",
              "        vertical-align: top;\n",
              "    }\n",
              "\n",
              "    .dataframe thead th {\n",
              "        text-align: right;\n",
              "    }\n",
              "</style>\n",
              "<table border=\"1\" class=\"dataframe\">\n",
              "  <thead>\n",
              "    <tr style=\"text-align: right;\">\n",
              "      <th></th>\n",
              "      <th>High</th>\n",
              "      <th>Low</th>\n",
              "      <th>Open</th>\n",
              "      <th>Close</th>\n",
              "      <th>Volume</th>\n",
              "      <th>Adj Close</th>\n",
              "    </tr>\n",
              "    <tr>\n",
              "      <th>Date</th>\n",
              "      <th></th>\n",
              "      <th></th>\n",
              "      <th></th>\n",
              "      <th></th>\n",
              "      <th></th>\n",
              "      <th></th>\n",
              "    </tr>\n",
              "  </thead>\n",
              "  <tbody>\n",
              "    <tr>\n",
              "      <th>2006-08-14</th>\n",
              "      <td>2.329286</td>\n",
              "      <td>2.271429</td>\n",
              "      <td>2.287500</td>\n",
              "      <td>2.283571</td>\n",
              "      <td>717620400.0</td>\n",
              "      <td>1.966984</td>\n",
              "    </tr>\n",
              "    <tr>\n",
              "      <th>2006-08-15</th>\n",
              "      <td>2.375000</td>\n",
              "      <td>2.314286</td>\n",
              "      <td>2.333571</td>\n",
              "      <td>2.373214</td>\n",
              "      <td>861352800.0</td>\n",
              "      <td>2.044200</td>\n",
              "    </tr>\n",
              "    <tr>\n",
              "      <th>2006-08-16</th>\n",
              "      <td>2.431071</td>\n",
              "      <td>2.368929</td>\n",
              "      <td>2.396429</td>\n",
              "      <td>2.427857</td>\n",
              "      <td>781284000.0</td>\n",
              "      <td>2.091267</td>\n",
              "    </tr>\n",
              "    <tr>\n",
              "      <th>2006-08-17</th>\n",
              "      <td>2.452143</td>\n",
              "      <td>2.399286</td>\n",
              "      <td>2.428571</td>\n",
              "      <td>2.413929</td>\n",
              "      <td>581148400.0</td>\n",
              "      <td>2.079270</td>\n",
              "    </tr>\n",
              "    <tr>\n",
              "      <th>2006-08-18</th>\n",
              "      <td>2.442857</td>\n",
              "      <td>2.402143</td>\n",
              "      <td>2.418214</td>\n",
              "      <td>2.425357</td>\n",
              "      <td>536354000.0</td>\n",
              "      <td>2.089114</td>\n",
              "    </tr>\n",
              "  </tbody>\n",
              "</table>\n",
              "</div>"
            ],
            "text/plain": [
              "                High       Low      Open     Close       Volume  Adj Close\n",
              "Date                                                                      \n",
              "2006-08-14  2.329286  2.271429  2.287500  2.283571  717620400.0   1.966984\n",
              "2006-08-15  2.375000  2.314286  2.333571  2.373214  861352800.0   2.044200\n",
              "2006-08-16  2.431071  2.368929  2.396429  2.427857  781284000.0   2.091267\n",
              "2006-08-17  2.452143  2.399286  2.428571  2.413929  581148400.0   2.079270\n",
              "2006-08-18  2.442857  2.402143  2.418214  2.425357  536354000.0   2.089114"
            ]
          },
          "metadata": {
            "tags": []
          },
          "execution_count": 29
        }
      ]
    },
    {
      "cell_type": "markdown",
      "metadata": {
        "id": "HSoXf9kxFdhR"
      },
      "source": [
        "##Closing Price   \n",
        "\n"
      ]
    },
    {
      "cell_type": "code",
      "metadata": {
        "id": "uxgy1J8HpoCo",
        "colab": {
          "base_uri": "https://localhost:8080/",
          "height": 521
        },
        "outputId": "c93f86e2-d66b-4e39-c444-bd45982e5281"
      },
      "source": [
        "plt.figure(figsize = (16,8))\n",
        "plt.title('Closing Price')\n",
        "plt.xlabel('Date',fontsize = 18)\n",
        "plt.ylabel('Closing Price',fontsize = 18)\n",
        "plt.plot(df['Close'])\n",
        "plt.grid(True)\n",
        "plt.show()"
      ],
      "execution_count": null,
      "outputs": [
        {
          "output_type": "display_data",
          "data": {
            "image/png": "[encoded data removed]",
            "text/plain": [
              "<Figure size 1152x576 with 1 Axes>"
            ]
          },
          "metadata": {
            "tags": [],
            "needs_background": "light"
          }
        }
      ]
    },
    {
      "cell_type": "code",
      "metadata": {
        "id": "GQURLafgth5a",
        "colab": {
          "base_uri": "https://localhost:8080/"
        },
        "outputId": "605dd791-a307-491b-c220-894c60c7d36a"
      },
      "source": [
        "#Close Column\n",
        "data = df.filter(['Close'])\n",
        "dataset = data.values\n",
        "\n",
        "# Number of examples for training\n",
        "training_data_len = math.ceil(len(dataset)*.8)\n",
        "training_data_len"
      ],
      "execution_count": null,
      "outputs": [
        {
          "output_type": "execute_result",
          "data": {
            "text/plain": [
              "2935"
            ]
          },
          "metadata": {
            "tags": []
          },
          "execution_count": 32
        }
      ]
    },
    {
      "cell_type": "code",
      "metadata": {
        "id": "ka81naqXxVSR",
        "colab": {
          "base_uri": "https://localhost:8080/"
        },
        "outputId": "e146a126-8695-4e37-f04c-55d8d722eba7"
      },
      "source": [
        "#Scale the data\n",
        "scaler = MinMaxScaler(feature_range = (0,1))\n",
        "scaled_data = scaler.fit_transform(dataset)\n",
        "\n",
        "#Data converted into the range from 0 to 1\n",
        "scaled_data.shape"
      ],
      "execution_count": null,
      "outputs": [
        {
          "output_type": "execute_result",
          "data": {
            "text/plain": [
              "(3668, 1)"
            ]
          },
          "metadata": {
            "tags": []
          },
          "execution_count": 33
        }
      ]
    },
    {
      "cell_type": "code",
      "metadata": {
        "id": "Px8Q0R13yu8b",
        "colab": {
          "base_uri": "https://localhost:8080/"
        },
        "outputId": "aa261a35-d75b-4cd7-caf1-8a7fb0be0bd9"
      },
      "source": [
        "#Create the trainning data set \n",
        "#Create the scaled training data set\n",
        "train_data = scaled_data[0:training_data_len,:]\n",
        "\n",
        "# split the data into x_train and y_train data sets\n",
        "x_train = []\n",
        "y_train = []\n",
        "print(len(train_data))\n",
        "for i in range(60,len(train_data)):\n",
        "    x_train.append(train_data[i-60:i,0])\n",
        "    y_train.append(train_data[i,0])\n"
      ],
      "execution_count": null,
      "outputs": [
        {
          "output_type": "stream",
          "text": [
            "2935\n"
          ],
          "name": "stdout"
        }
      ]
    },
    {
      "cell_type": "code",
      "metadata": {
        "id": "Q3I1ud4z4GyO"
      },
      "source": [
        "# Convert x_train and y_train to numpy arrays\n",
        "x_train,y_train = np.array(x_train),np.array(y_train)"
      ],
      "execution_count": null,
      "outputs": []
    },
    {
      "cell_type": "code",
      "metadata": {
        "id": "ZMcM721I_sOy",
        "colab": {
          "base_uri": "https://localhost:8080/"
        },
        "outputId": "7336f58a-b292-4377-fcc5-7a1d1ba38e03"
      },
      "source": [
        "x_train.shape"
      ],
      "execution_count": null,
      "outputs": [
        {
          "output_type": "execute_result",
          "data": {
            "text/plain": [
              "(2875, 60)"
            ]
          },
          "metadata": {
            "tags": []
          },
          "execution_count": 36
        }
      ]
    },
    {
      "cell_type": "code",
      "metadata": {
        "id": "Iahe9ibVGRo4",
        "colab": {
          "base_uri": "https://localhost:8080/"
        },
        "outputId": "f7c4feb2-90fa-4d26-98a7-61f442ddfda9"
      },
      "source": [
        "#Reshape the data\n",
        "\n",
        "x_train = np.reshape(x_train,(x_train.shape[0],x_train.shape[1],1))\n",
        "x_train.shape\n",
        " "
      ],
      "execution_count": null,
      "outputs": [
        {
          "output_type": "execute_result",
          "data": {
            "text/plain": [
              "(2875, 60, 1)"
            ]
          },
          "metadata": {
            "tags": []
          },
          "execution_count": 37
        }
      ]
    },
    {
      "cell_type": "code",
      "metadata": {
        "id": "vpXO0MSbGbrH"
      },
      "source": [
        "#Build LSTM model\n",
        "model = Sequential()\n",
        "model.add(LSTM(50, return_sequences=True,input_shape = (x_train.shape[1],1)))\n",
        "model.add(LSTM(50,return_sequences= False))\n",
        "model.add(Dense(25))\n",
        "model.add(Dense(1))\n"
      ],
      "execution_count": null,
      "outputs": []
    },
    {
      "cell_type": "code",
      "metadata": {
        "id": "oudzeIt7GgEy"
      },
      "source": [
        "#Compile the mdoel\n",
        "model.compile(optimizer='adam',loss = 'mean_squared_error')\n"
      ],
      "execution_count": null,
      "outputs": []
    },
    {
      "cell_type": "code",
      "metadata": {
        "id": "5nw9DWfsGh2r",
        "colab": {
          "base_uri": "https://localhost:8080/"
        },
        "outputId": "75cc885d-59bf-4d08-a82f-db387936eb63"
      },
      "source": [
        "#Train the mdoel\n",
        "model.fit(x_train,y_train,batch_size=1 ,epochs= 5)"
      ],
      "execution_count": null,
      "outputs": [
        {
          "output_type": "stream",
          "text": [
            "Epoch 1/5\n",
            "2875/2875 [==============================] - 66s 22ms/step - loss: 1.8713e-04\n",
            "Epoch 2/5\n",
            "2875/2875 [==============================] - 64s 22ms/step - loss: 5.0334e-05\n",
            "Epoch 3/5\n",
            "2875/2875 [==============================] - 63s 22ms/step - loss: 4.3228e-05\n",
            "Epoch 4/5\n",
            "2875/2875 [==============================] - 63s 22ms/step - loss: 2.7830e-05\n",
            "Epoch 5/5\n",
            "2875/2875 [==============================] - 63s 22ms/step - loss: 2.7361e-05\n"
          ],
          "name": "stdout"
        },
        {
          "output_type": "execute_result",
          "data": {
            "text/plain": [
              "<tensorflow.python.keras.callbacks.History at 0x7f7c797beed0>"
            ]
          },
          "metadata": {
            "tags": []
          },
          "execution_count": 40
        }
      ]
    },
    {
      "cell_type": "code",
      "metadata": {
        "id": "62mlrlvJNPm-"
      },
      "source": [
        "#create the testing data\n",
        "#New array from the index 1621 to 2111\n",
        "test_data = scaled_data[training_data_len - 60:,:]\n",
        "\n",
        "#create x_test and y_test\n",
        "x_test = []\n",
        "y_test = dataset[training_data_len:,:]\n",
        "for i in range(60,len(test_data)):\n",
        "    x_test.append(test_data[i-60:i,0]) \n"
      ],
      "execution_count": null,
      "outputs": []
    },
    {
      "cell_type": "code",
      "metadata": {
        "id": "SPwjoLa1NS0o"
      },
      "source": [
        "# Convert test data into array\n",
        "x_test = np.array(x_test)\n"
      ],
      "execution_count": null,
      "outputs": []
    },
    {
      "cell_type": "code",
      "metadata": {
        "id": "hcGhDZuqNVb4"
      },
      "source": [
        "# Reshape Data\n",
        "x_test = np.reshape(x_test, (x_test.shape[0], x_test.shape[1], 1 ))"
      ],
      "execution_count": null,
      "outputs": []
    },
    {
      "cell_type": "code",
      "metadata": {
        "id": "WzNINHa-NXNJ"
      },
      "source": [
        "#get the model predicted price values\n",
        "predictions = model.predict(x_test)\n",
        "predictions = scaler.inverse_transform(predictions)"
      ],
      "execution_count": null,
      "outputs": []
    },
    {
      "cell_type": "code",
      "metadata": {
        "id": "J5Nt68swNZch",
        "colab": {
          "base_uri": "https://localhost:8080/"
        },
        "outputId": "f9d917df-05ce-4267-cd35-26ca70213710"
      },
      "source": [
        "# Get the RMSE\n",
        "rmse = np.sqrt(np.mean(predictions - y_test) ** 2)\n",
        "rmse"
      ],
      "execution_count": null,
      "outputs": [
        {
          "output_type": "execute_result",
          "data": {
            "text/plain": [
              "0.6883740756879236"
            ]
          },
          "metadata": {
            "tags": []
          },
          "execution_count": 45
        }
      ]
    },
    {
      "cell_type": "code",
      "metadata": {
        "id": "GgSH3IFxNbQs",
        "colab": {
          "base_uri": "https://localhost:8080/",
          "height": 623
        },
        "outputId": "1bd94102-b23f-41dc-924c-53d34ae2a795"
      },
      "source": [
        "#Plot the data\n",
        "train = data[:training_data_len]\n",
        "valid = data[training_data_len:]\n",
        "valid['Predictions'] = predictions\n",
        "#visualize the data\n",
        "plt.figure(figsize = (16,8))\n",
        "plt.title('MODEL')\n",
        "plt.xlabel('Date',fontsize = 18)\n",
        "plt.ylabel('Close Price',fontsize = 18)\n",
        "plt.plot(train['Close'])\n",
        "plt.plot(valid[['Close','Predictions']])\n",
        "plt.legend(['Train','Val','Predictions'],loc = 'lower right')\n",
        "plt.grid()\n",
        "plt.show()\n"
      ],
      "execution_count": null,
      "outputs": [
        {
          "output_type": "stream",
          "text": [
            "/usr/local/lib/python3.7/dist-packages/ipykernel_launcher.py:4: SettingWithCopyWarning: \n",
            "A value is trying to be set on a copy of a slice from a DataFrame.\n",
            "Try using .loc[row_indexer,col_indexer] = value instead\n",
            "\n",
            "See the caveats in the documentation: https://pandas.pydata.org/pandas-docs/stable/user_guide/indexing.html#returning-a-view-versus-a-copy\n",
            "  after removing the cwd from sys.path.\n"
          ],
          "name": "stderr"
        },
        {
          "output_type": "display_data",
          "data": {
            "image/png": "[encoded data removed]",
            "text/plain": [
              "<Figure size 1152x576 with 1 Axes>"
            ]
          },
          "metadata": {
            "tags": [],
            "needs_background": "light"
          }
        }
      ]
    },
    {
      "cell_type": "code",
      "metadata": {
        "id": "T_-h7y9WNt8Y",
        "colab": {
          "base_uri": "https://localhost:8080/",
          "height": 450
        },
        "outputId": "d41cd265-2217-44b0-a3f8-c6314088b99f"
      },
      "source": [
        "valid"
      ],
      "execution_count": null,
      "outputs": [
        {
          "output_type": "execute_result",
          "data": {
            "text/html": [
              "<div>\n",
              "<style scoped>\n",
              "    .dataframe tbody tr th:only-of-type {\n",
              "        vertical-align: middle;\n",
              "    }\n",
              "\n",
              "    .dataframe tbody tr th {\n",
              "        vertical-align: top;\n",
              "    }\n",
              "\n",
              "    .dataframe thead th {\n",
              "        text-align: right;\n",
              "    }\n",
              "</style>\n",
              "<table border=\"1\" class=\"dataframe\">\n",
              "  <thead>\n",
              "    <tr style=\"text-align: right;\">\n",
              "      <th></th>\n",
              "      <th>Close</th>\n",
              "      <th>Predictions</th>\n",
              "    </tr>\n",
              "    <tr>\n",
              "      <th>Date</th>\n",
              "      <th></th>\n",
              "      <th></th>\n",
              "    </tr>\n",
              "  </thead>\n",
              "  <tbody>\n",
              "    <tr>\n",
              "      <th>2018-04-12</th>\n",
              "      <td>43.535000</td>\n",
              "      <td>43.453896</td>\n",
              "    </tr>\n",
              "    <tr>\n",
              "      <th>2018-04-13</th>\n",
              "      <td>43.682499</td>\n",
              "      <td>43.856304</td>\n",
              "    </tr>\n",
              "    <tr>\n",
              "      <th>2018-04-16</th>\n",
              "      <td>43.955002</td>\n",
              "      <td>43.987453</td>\n",
              "    </tr>\n",
              "    <tr>\n",
              "      <th>2018-04-17</th>\n",
              "      <td>44.560001</td>\n",
              "      <td>44.248016</td>\n",
              "    </tr>\n",
              "    <tr>\n",
              "      <th>2018-04-18</th>\n",
              "      <td>44.459999</td>\n",
              "      <td>44.823109</td>\n",
              "    </tr>\n",
              "    <tr>\n",
              "      <th>...</th>\n",
              "      <td>...</td>\n",
              "      <td>...</td>\n",
              "    </tr>\n",
              "    <tr>\n",
              "      <th>2021-03-04</th>\n",
              "      <td>120.129997</td>\n",
              "      <td>118.284103</td>\n",
              "    </tr>\n",
              "    <tr>\n",
              "      <th>2021-03-05</th>\n",
              "      <td>121.419998</td>\n",
              "      <td>116.362976</td>\n",
              "    </tr>\n",
              "    <tr>\n",
              "      <th>2021-03-08</th>\n",
              "      <td>116.360001</td>\n",
              "      <td>118.107262</td>\n",
              "    </tr>\n",
              "    <tr>\n",
              "      <th>2021-03-09</th>\n",
              "      <td>121.089996</td>\n",
              "      <td>112.456375</td>\n",
              "    </tr>\n",
              "    <tr>\n",
              "      <th>2021-03-10</th>\n",
              "      <td>119.980003</td>\n",
              "      <td>118.508331</td>\n",
              "    </tr>\n",
              "  </tbody>\n",
              "</table>\n",
              "<p>733 rows × 2 columns</p>\n",
              "</div>"
            ],
            "text/plain": [
              "                 Close  Predictions\n",
              "Date                               \n",
              "2018-04-12   43.535000    43.453896\n",
              "2018-04-13   43.682499    43.856304\n",
              "2018-04-16   43.955002    43.987453\n",
              "2018-04-17   44.560001    44.248016\n",
              "2018-04-18   44.459999    44.823109\n",
              "...                ...          ...\n",
              "2021-03-04  120.129997   118.284103\n",
              "2021-03-05  121.419998   116.362976\n",
              "2021-03-08  116.360001   118.107262\n",
              "2021-03-09  121.089996   112.456375\n",
              "2021-03-10  119.980003   118.508331\n",
              "\n",
              "[733 rows x 2 columns]"
            ]
          },
          "metadata": {
            "tags": []
          },
          "execution_count": 47
        }
      ]
    },
    {
      "cell_type": "code",
      "metadata": {
        "id": "nJuaconxNzFe",
        "colab": {
          "base_uri": "https://localhost:8080/"
        },
        "outputId": "a629a369-9ca3-463c-b888-3fe560379ff4"
      },
      "source": [
        "apple_quote = web.DataReader('AAPL',data_source = 'yahoo',start = '2006-08-14',end = '2021-3-13')\n",
        "new_df = apple_quote.filter(['Close'])\n",
        "last_60_days = new_df[-60:].values\n",
        "#print(last_60_days)\n",
        "last_60_days_scaled = scaler.transform(last_60_days)\n",
        "\n",
        "\n",
        "X_test = []\n",
        "X_test.append(last_60_days_scaled)\n",
        "X_test = np.array(X_test)\n",
        "\n",
        "X_test = np.reshape(X_test,(X_test.shape[0],X_test.shape[1],1 ))\n",
        "pred_price = model.predict(X_test)\n",
        "pred_price = scaler.inverse_transform(pred_price)\n",
        "print(pred_price)"
      ],
      "execution_count": null,
      "outputs": [
        {
          "output_type": "stream",
          "text": [
            "[[117.814766]]\n"
          ],
          "name": "stdout"
        }
      ]
    },
    {
      "cell_type": "code",
      "metadata": {
        "id": "HkaZDet0Ohhy"
      },
      "source": [
        ""
      ],
      "execution_count": null,
      "outputs": []
    }
  ]
}